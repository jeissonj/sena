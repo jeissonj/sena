{
 "cells": [
  {
   "cell_type": "markdown",
   "id": "a875743f",
   "metadata": {},
   "source": [
    "## Actividad 3 análisis exoploratorío de datos en python - sena\n",
    "Jeisson Jesús Valencia Vallejo"
   ]
  },
  {
   "cell_type": "markdown",
   "id": "07cb004a",
   "metadata": {},
   "source": [
    "Estudio de caso: análisis exploratorio de datos\n",
    "\n",
    "La empresa A&A Ltda, empieza un proceso de implementación de Machine Learning, usted ha sido designado para una de las tareas más importante dentro del proyecto, el cual consisten en realizar el análisis exploratorio de los datos y documentar los resultados encontrados, generando un informe que involucre los procedimientos y los resultados. \n",
    "El archivo que se analizara corresponde a precios de viviendas y locales para la venta y la colección de datos cuenta con variables que se ven involucradas en ese valor.\n",
    "La información se encuentra en el siguiente enlace: https://www.datos.gov.co/Hacienda-y-Cr-dito-P-blico/Inmuebles-Disponibles-Para-La-Venta/72gd-px77/data  la cual usted debe descargar e importar con la herramienta anaconda, el archivo lo puede exportar en formato CSV.\n"
   ]
  },
  {
   "cell_type": "code",
   "execution_count": 1,
   "id": "43b39cae",
   "metadata": {},
   "outputs": [],
   "source": [
    "import pandas as pd\n",
    "import matplotlib.pyplot as plt\n",
    "import seaborn as sns"
   ]
  },
  {
   "cell_type": "markdown",
   "id": "bceb0cc0",
   "metadata": {},
   "source": [
    "una ves descargados los datos los importamos con la función de pandas "
   ]
  },
  {
   "cell_type": "code",
   "execution_count": 2,
   "id": "e96ee41b",
   "metadata": {},
   "outputs": [
    {
     "name": "stdout",
     "output_type": "stream",
     "text": [
      "<class 'pandas.core.frame.DataFrame'>\n",
      "RangeIndex: 467 entries, 0 to 466\n",
      "Data columns (total 12 columns):\n",
      " #   Column                  Non-Null Count  Dtype \n",
      "---  ------                  --------------  ----- \n",
      " 0   Codigo                  467 non-null    int64 \n",
      " 1   Ciudad                  467 non-null    object\n",
      " 2   Departamento            467 non-null    object\n",
      " 3   Barrio                  59 non-null     object\n",
      " 4   Direccion               467 non-null    object\n",
      " 5   Area Terreno            467 non-null    int64 \n",
      " 6   Area Construida         467 non-null    int64 \n",
      " 7   Detalle Disponibilidad  467 non-null    object\n",
      " 8   Estrato                 467 non-null    object\n",
      " 9   Precio                  467 non-null    int64 \n",
      " 10  Tipo de Inmueble        467 non-null    object\n",
      " 11  Datos Adicionales       109 non-null    object\n",
      "dtypes: int64(4), object(8)\n",
      "memory usage: 43.9+ KB\n"
     ]
    }
   ],
   "source": [
    "df = pd.read_csv(\"Inmuebles_Disponibles_Para_La_Venta.csv\")\n",
    "df.info()"
   ]
  },
  {
   "cell_type": "markdown",
   "id": "ddb42dae",
   "metadata": {},
   "source": [
    "Podemos notar que tanto barrio como datos adicionales de inmueble presentan cantidades abundantes de datos nulos por lo cual procederemos a eliminarlos "
   ]
  },
  {
   "cell_type": "code",
   "execution_count": 3,
   "id": "f51bdbae",
   "metadata": {},
   "outputs": [
    {
     "name": "stdout",
     "output_type": "stream",
     "text": [
      "<class 'pandas.core.frame.DataFrame'>\n",
      "RangeIndex: 467 entries, 0 to 466\n",
      "Data columns (total 10 columns):\n",
      " #   Column                  Non-Null Count  Dtype \n",
      "---  ------                  --------------  ----- \n",
      " 0   Codigo                  467 non-null    int64 \n",
      " 1   Ciudad                  467 non-null    object\n",
      " 2   Departamento            467 non-null    object\n",
      " 3   Direccion               467 non-null    object\n",
      " 4   Area Terreno            467 non-null    int64 \n",
      " 5   Area Construida         467 non-null    int64 \n",
      " 6   Detalle Disponibilidad  467 non-null    object\n",
      " 7   Estrato                 467 non-null    object\n",
      " 8   Precio                  467 non-null    int64 \n",
      " 9   Tipo de Inmueble        467 non-null    object\n",
      "dtypes: int64(4), object(6)\n",
      "memory usage: 36.6+ KB\n"
     ]
    }
   ],
   "source": [
    "df = df.drop([\"Barrio\",\"Datos Adicionales\"],axis=1)\n",
    "df.info()"
   ]
  },
  {
   "cell_type": "code",
   "execution_count": 4,
   "id": "5098d1fc",
   "metadata": {},
   "outputs": [
    {
     "data": {
      "text/plain": [
       "Codigo                    0\n",
       "Ciudad                    0\n",
       "Departamento              0\n",
       "Direccion                 0\n",
       "Area Terreno              0\n",
       "Area Construida           0\n",
       "Detalle Disponibilidad    0\n",
       "Estrato                   0\n",
       "Precio                    0\n",
       "Tipo de Inmueble          0\n",
       "dtype: int64"
      ]
     },
     "execution_count": 4,
     "metadata": {},
     "output_type": "execute_result"
    }
   ],
   "source": [
    "df.isnull().sum()"
   ]
  },
  {
   "cell_type": "markdown",
   "id": "9d1ddc17",
   "metadata": {},
   "source": [
    "es de notar que ya no se presentan datos nulos en nuestro dataframe pero es preciso eliminart los datos duplicados \n",
    "como pregunta podemos plantear como se ve afectado el precio"
   ]
  },
  {
   "cell_type": "code",
   "execution_count": 5,
   "id": "09834b7c",
   "metadata": {},
   "outputs": [
    {
     "name": "stdout",
     "output_type": "stream",
     "text": [
      "<class 'pandas.core.frame.DataFrame'>\n",
      "RangeIndex: 467 entries, 0 to 466\n",
      "Data columns (total 10 columns):\n",
      " #   Column                  Non-Null Count  Dtype \n",
      "---  ------                  --------------  ----- \n",
      " 0   Codigo                  467 non-null    int64 \n",
      " 1   Ciudad                  467 non-null    object\n",
      " 2   Departamento            467 non-null    object\n",
      " 3   Direccion               467 non-null    object\n",
      " 4   Area Terreno            467 non-null    int64 \n",
      " 5   Area Construida         467 non-null    int64 \n",
      " 6   Detalle Disponibilidad  467 non-null    object\n",
      " 7   Estrato                 467 non-null    object\n",
      " 8   Precio                  467 non-null    int64 \n",
      " 9   Tipo de Inmueble        467 non-null    object\n",
      "dtypes: int64(4), object(6)\n",
      "memory usage: 36.6+ KB\n"
     ]
    }
   ],
   "source": [
    "df.dropna()\n",
    "df.info()"
   ]
  },
  {
   "cell_type": "markdown",
   "id": "949760e3",
   "metadata": {},
   "source": [
    "Vemos que los datos no cuentan con duplicidad en los datos"
   ]
  },
  {
   "cell_type": "markdown",
   "id": "7ebe7ec1",
   "metadata": {},
   "source": [
    "Datos Categoricos: Ciudad, Departamento, Dirección, Detalle Disponibilidad, Estrato y Tipo de Inmueble.\n",
    "\n",
    "Datos Numericos: Codigo, Area Terreno, Area Construida y Precio."
   ]
  },
  {
   "cell_type": "markdown",
   "id": "fd66b878",
   "metadata": {},
   "source": [
    "Es de notar que en la base de datos se encuentran valores de edificacones construidas como de terrenos y es de esoperarse que esto afecte de manera significativa el precio del inmueble que queremos comprar es por ello que daremos un vistaso inicial de como estan distribuidos los datos para tomar la desición si trabajar con edificaiones o con lotes"
   ]
  },
  {
   "cell_type": "code",
   "execution_count": 6,
   "id": "2504dcc6",
   "metadata": {},
   "outputs": [
    {
     "data": {
      "image/png": "[encoded data removed]",
      "text/plain": [
       "<Figure size 432x288 with 1 Axes>"
      ]
     },
     "metadata": {
      "needs_background": "light"
     },
     "output_type": "display_data"
    }
   ],
   "source": [
    "#df.hist(bins=30,figsize=(20,10))\n",
    "area_construida = df[\"Area Construida\"]\n",
    "sns.histplot(data = area_construida,bins=30,kde=True)\n",
    "plt.show()\n"
   ]
  },
  {
   "cell_type": "markdown",
   "id": "1ac5ff8f",
   "metadata": {},
   "source": [
    "Notamos que la gran mayoría de objetos a vender son terrenos sin edificaciónes es por ello que para este caso valoraremos estos."
   ]
  },
  {
   "cell_type": "code",
   "execution_count": 7,
   "id": "7dece764",
   "metadata": {},
   "outputs": [
    {
     "data": {
      "text/html": [
       "<div>\n",
       "<style scoped>\n",
       "    .dataframe tbody tr th:only-of-type {\n",
       "        vertical-align: middle;\n",
       "    }\n",
       "\n",
       "    .dataframe tbody tr th {\n",
       "        vertical-align: top;\n",
       "    }\n",
       "\n",
       "    .dataframe thead th {\n",
       "        text-align: right;\n",
       "    }\n",
       "</style>\n",
       "<table border=\"1\" class=\"dataframe\">\n",
       "  <thead>\n",
       "    <tr style=\"text-align: right;\">\n",
       "      <th></th>\n",
       "      <th>Codigo</th>\n",
       "      <th>Area Terreno</th>\n",
       "      <th>Area Construida</th>\n",
       "      <th>Precio</th>\n",
       "    </tr>\n",
       "  </thead>\n",
       "  <tbody>\n",
       "    <tr>\n",
       "      <th>count</th>\n",
       "      <td>456.000000</td>\n",
       "      <td>4.560000e+02</td>\n",
       "      <td>456.0</td>\n",
       "      <td>4.560000e+02</td>\n",
       "    </tr>\n",
       "    <tr>\n",
       "      <th>mean</th>\n",
       "      <td>17903.980263</td>\n",
       "      <td>8.033388e+05</td>\n",
       "      <td>0.0</td>\n",
       "      <td>5.913297e+12</td>\n",
       "    </tr>\n",
       "    <tr>\n",
       "      <th>std</th>\n",
       "      <td>2154.975541</td>\n",
       "      <td>1.064195e+07</td>\n",
       "      <td>0.0</td>\n",
       "      <td>2.422980e+13</td>\n",
       "    </tr>\n",
       "    <tr>\n",
       "      <th>min</th>\n",
       "      <td>2330.000000</td>\n",
       "      <td>0.000000e+00</td>\n",
       "      <td>0.0</td>\n",
       "      <td>6.333900e+10</td>\n",
       "    </tr>\n",
       "    <tr>\n",
       "      <th>25%</th>\n",
       "      <td>18153.250000</td>\n",
       "      <td>0.000000e+00</td>\n",
       "      <td>0.0</td>\n",
       "      <td>1.230500e+11</td>\n",
       "    </tr>\n",
       "    <tr>\n",
       "      <th>50%</th>\n",
       "      <td>18316.500000</td>\n",
       "      <td>0.000000e+00</td>\n",
       "      <td>0.0</td>\n",
       "      <td>1.616900e+11</td>\n",
       "    </tr>\n",
       "    <tr>\n",
       "      <th>75%</th>\n",
       "      <td>18502.250000</td>\n",
       "      <td>0.000000e+00</td>\n",
       "      <td>0.0</td>\n",
       "      <td>1.224146e+12</td>\n",
       "    </tr>\n",
       "    <tr>\n",
       "      <th>max</th>\n",
       "      <td>19361.000000</td>\n",
       "      <td>2.187863e+08</td>\n",
       "      <td>0.0</td>\n",
       "      <td>2.958081e+14</td>\n",
       "    </tr>\n",
       "  </tbody>\n",
       "</table>\n",
       "</div>"
      ],
      "text/plain": [
       "             Codigo  Area Terreno  Area Construida        Precio\n",
       "count    456.000000  4.560000e+02            456.0  4.560000e+02\n",
       "mean   17903.980263  8.033388e+05              0.0  5.913297e+12\n",
       "std     2154.975541  1.064195e+07              0.0  2.422980e+13\n",
       "min     2330.000000  0.000000e+00              0.0  6.333900e+10\n",
       "25%    18153.250000  0.000000e+00              0.0  1.230500e+11\n",
       "50%    18316.500000  0.000000e+00              0.0  1.616900e+11\n",
       "75%    18502.250000  0.000000e+00              0.0  1.224146e+12\n",
       "max    19361.000000  2.187863e+08              0.0  2.958081e+14"
      ]
     },
     "execution_count": 7,
     "metadata": {},
     "output_type": "execute_result"
    }
   ],
   "source": [
    "ext = df[\"Area Construida\"] == 0\n",
    "df_2 = df[ext]\n",
    "df_2.describe()"
   ]
  },
  {
   "cell_type": "markdown",
   "id": "7c79d035",
   "metadata": {},
   "source": [
    "vemos que el balor medio es de 6.333900e+10 sumamente constoso para una persona que gana el minimo, ademas la desviación estandar es de 2.422980e+13 mucho mayo que la media cosa que nos indica que posiblemente los datos esten malos\n",
    "\n",
    "\n",
    "Otro factor a conciderar es que existen unos predios con area cero lo que supondremos como un error ya que carece de sentido, trabajaremos primero con estos datos y luego precedermos a eliminarlos y ver como cambian los resultados"
   ]
  },
  {
   "cell_type": "markdown",
   "id": "2f22a26d",
   "metadata": {},
   "source": [
    "vamos axplorar los terrenos dependiendo de su estrato para ello categorizamos, tambien es de notar que al ser terrenos sin nada construido la columna de Area construida pierde el sentido por lo cual tambien procedemos a eliminarla."
   ]
  },
  {
   "cell_type": "code",
   "execution_count": 8,
   "id": "066ef742",
   "metadata": {},
   "outputs": [
    {
     "data": {
      "text/plain": [
       "COMERCIAL     307\n",
       "RURAL          30\n",
       "DOS            25\n",
       "TRES           19\n",
       "CUATRO         18\n",
       "UNO            18\n",
       "SEIS           16\n",
       "INDUSTRIAL     14\n",
       "CINCO           9\n",
       "Name: Estrato, dtype: int64"
      ]
     },
     "execution_count": 8,
     "metadata": {},
     "output_type": "execute_result"
    }
   ],
   "source": [
    "df_2 = df_2.drop([\"Area Construida\"],axis=1)\n",
    "pd.value_counts(df_2[\"Estrato\"])"
   ]
  },
  {
   "cell_type": "code",
   "execution_count": 10,
   "id": "425b7ad0",
   "metadata": {},
   "outputs": [
    {
     "data": {
      "text/plain": [
       "COMERCIAL     67.324561\n",
       "RURAL          6.578947\n",
       "DOS            5.482456\n",
       "TRES           4.166667\n",
       "CUATRO         3.947368\n",
       "UNO            3.947368\n",
       "SEIS           3.508772\n",
       "INDUSTRIAL     3.070175\n",
       "CINCO          1.973684\n",
       "Name: Estrato, dtype: float64"
      ]
     },
     "execution_count": 10,
     "metadata": {},
     "output_type": "execute_result"
    }
   ],
   "source": [
    "# tabla de frecuencia relativa de pasajeros\n",
    "100 * df_2[\"Estrato\"].value_counts() / len(df_2[\"Estrato\"])\n"
   ]
  },
  {
   "cell_type": "markdown",
   "id": "9f9d151f",
   "metadata": {},
   "source": [
    "casi todos los inmuebles son de estatus comercial lo que podremos apreciar mejor en graficas"
   ]
  },
  {
   "cell_type": "code",
   "execution_count": 11,
   "id": "6c52f683",
   "metadata": {},
   "outputs": [
    {
     "data": {
      "image/png": "[encoded data removed]",
      "text/plain": [
       "<Figure size 432x288 with 1 Axes>"
      ]
     },
     "metadata": {
      "needs_background": "light"
     },
     "output_type": "display_data"
    }
   ],
   "source": [
    "# Gráfico de barras de Estratos\n",
    "plot = df_2[\"Estrato\"].value_counts().plot(kind='bar',\n",
    "                                            title='Estrato innmuebles')"
   ]
  },
  {
   "cell_type": "code",
   "execution_count": 12,
   "id": "eb44de03",
   "metadata": {},
   "outputs": [
    {
     "data": {
      "image/png": "[encoded data removed]",
      "text/plain": [
       "<Figure size 432x432 with 1 Axes>"
      ]
     },
     "metadata": {},
     "output_type": "display_data"
    }
   ],
   "source": [
    "# Gráfico de tarta de Estratos\n",
    "plot = df_2[\"Estrato\"].value_counts().plot(kind='pie', autopct='%.2f', \n",
    "                                            figsize=(6, 6),\n",
    "                                            title='Estratos de lotes')"
   ]
  },
  {
   "cell_type": "markdown",
   "id": "50f71a85",
   "metadata": {},
   "source": [
    "Notamos que la gran mayoria son de uso de interes comercial "
   ]
  },
  {
   "cell_type": "code",
   "execution_count": 13,
   "id": "2aa6e234",
   "metadata": {},
   "outputs": [
    {
     "data": {
      "image/png": "[encoded data removed]",
      "text/plain": [
       "<Figure size 432x288 with 1 Axes>"
      ]
     },
     "metadata": {
      "needs_background": "light"
     },
     "output_type": "display_data"
    }
   ],
   "source": [
    "Redad_valor = sns.boxplot(x=df_2[\"Estrato\"],y=df_2[\"Precio\"])\n",
    "plt.show()"
   ]
  },
  {
   "cell_type": "markdown",
   "id": "5bda27b7",
   "metadata": {},
   "source": [
    "Vamos a explorar un digrama de correlación"
   ]
  },
  {
   "cell_type": "code",
   "execution_count": 14,
   "id": "5607d4a3",
   "metadata": {},
   "outputs": [
    {
     "data": {
      "image/png": "[encoded data removed]",
      "text/plain": [
       "<Figure size 432x288 with 2 Axes>"
      ]
     },
     "metadata": {
      "needs_background": "light"
     },
     "output_type": "display_data"
    }
   ],
   "source": [
    "correlacion = df_2.corr()\n",
    "sns.heatmap(correlacion,xticklabels=correlacion.columns,yticklabels=correlacion.columns,annot=True)\n",
    "plt.show()"
   ]
  },
  {
   "cell_type": "markdown",
   "id": "d15012ee",
   "metadata": {},
   "source": [
    "Es de notar que existe una correlación positiva entre el area de terreno y el precio, cosa que se habria de esperar, tambien existe una correlación negativa entre el precio y el codigo cosa que carece de sentido y por lo cual no habremos de conciderar "
   ]
  },
  {
   "cell_type": "markdown",
   "id": "9a766e3c",
   "metadata": {},
   "source": [
    "Llegado este caso eliminaremos los terrenos con area cero y veremos como cambian los resultados "
   ]
  },
  {
   "cell_type": "code",
   "execution_count": 15,
   "id": "b2689508",
   "metadata": {},
   "outputs": [
    {
     "data": {
      "text/html": [
       "<div>\n",
       "<style scoped>\n",
       "    .dataframe tbody tr th:only-of-type {\n",
       "        vertical-align: middle;\n",
       "    }\n",
       "\n",
       "    .dataframe tbody tr th {\n",
       "        vertical-align: top;\n",
       "    }\n",
       "\n",
       "    .dataframe thead th {\n",
       "        text-align: right;\n",
       "    }\n",
       "</style>\n",
       "<table border=\"1\" class=\"dataframe\">\n",
       "  <thead>\n",
       "    <tr style=\"text-align: right;\">\n",
       "      <th></th>\n",
       "      <th>Codigo</th>\n",
       "      <th>Area Terreno</th>\n",
       "      <th>Precio</th>\n",
       "    </tr>\n",
       "  </thead>\n",
       "  <tbody>\n",
       "    <tr>\n",
       "      <th>count</th>\n",
       "      <td>15.000000</td>\n",
       "      <td>1.500000e+01</td>\n",
       "      <td>1.500000e+01</td>\n",
       "    </tr>\n",
       "    <tr>\n",
       "      <th>mean</th>\n",
       "      <td>8864.666667</td>\n",
       "      <td>2.442150e+07</td>\n",
       "      <td>3.278956e+13</td>\n",
       "    </tr>\n",
       "    <tr>\n",
       "      <th>std</th>\n",
       "      <td>4233.923740</td>\n",
       "      <td>5.534139e+07</td>\n",
       "      <td>4.421324e+13</td>\n",
       "    </tr>\n",
       "    <tr>\n",
       "      <th>min</th>\n",
       "      <td>2330.000000</td>\n",
       "      <td>2.240000e+03</td>\n",
       "      <td>4.916800e+11</td>\n",
       "    </tr>\n",
       "    <tr>\n",
       "      <th>25%</th>\n",
       "      <td>4847.500000</td>\n",
       "      <td>4.873020e+05</td>\n",
       "      <td>5.163000e+12</td>\n",
       "    </tr>\n",
       "    <tr>\n",
       "      <th>50%</th>\n",
       "      <td>11787.000000</td>\n",
       "      <td>4.612600e+06</td>\n",
       "      <td>1.754039e+13</td>\n",
       "    </tr>\n",
       "    <tr>\n",
       "      <th>75%</th>\n",
       "      <td>12117.000000</td>\n",
       "      <td>1.779910e+07</td>\n",
       "      <td>2.995137e+13</td>\n",
       "    </tr>\n",
       "    <tr>\n",
       "      <th>max</th>\n",
       "      <td>12696.000000</td>\n",
       "      <td>2.187863e+08</td>\n",
       "      <td>1.380382e+14</td>\n",
       "    </tr>\n",
       "  </tbody>\n",
       "</table>\n",
       "</div>"
      ],
      "text/plain": [
       "             Codigo  Area Terreno        Precio\n",
       "count     15.000000  1.500000e+01  1.500000e+01\n",
       "mean    8864.666667  2.442150e+07  3.278956e+13\n",
       "std     4233.923740  5.534139e+07  4.421324e+13\n",
       "min     2330.000000  2.240000e+03  4.916800e+11\n",
       "25%     4847.500000  4.873020e+05  5.163000e+12\n",
       "50%    11787.000000  4.612600e+06  1.754039e+13\n",
       "75%    12117.000000  1.779910e+07  2.995137e+13\n",
       "max    12696.000000  2.187863e+08  1.380382e+14"
      ]
     },
     "execution_count": 15,
     "metadata": {},
     "output_type": "execute_result"
    }
   ],
   "source": [
    "ext = df_2[\"Area Terreno\"] != 0\n",
    "df_3 = df_2[ext]\n",
    "df_3.describe()"
   ]
  },
  {
   "cell_type": "markdown",
   "id": "e4be26f2",
   "metadata": {},
   "source": [
    "Es de notar que se redujieron de 456 a 15 datos lo que nos indica que las predicciones con estos datos no seran muy certeras"
   ]
  },
  {
   "cell_type": "code",
   "execution_count": 16,
   "id": "8c2687c4",
   "metadata": {},
   "outputs": [
    {
     "data": {
      "text/plain": [
       "RURAL        11\n",
       "TRES          2\n",
       "COMERCIAL     2\n",
       "Name: Estrato, dtype: int64"
      ]
     },
     "execution_count": 16,
     "metadata": {},
     "output_type": "execute_result"
    }
   ],
   "source": [
    "pd.value_counts(df_3[\"Estrato\"])"
   ]
  },
  {
   "cell_type": "markdown",
   "id": "bd830d19",
   "metadata": {},
   "source": [
    "Vemos que de los 9 estratos se redujero a tres lo que nos indica una mala calidad en los datos donde estamos perdiendo mucha información"
   ]
  },
  {
   "cell_type": "code",
   "execution_count": 17,
   "id": "8a44c544",
   "metadata": {},
   "outputs": [
    {
     "data": {
      "image/png": "[encoded data removed]",
      "text/plain": [
       "<Figure size 432x432 with 1 Axes>"
      ]
     },
     "metadata": {},
     "output_type": "display_data"
    }
   ],
   "source": [
    "# Gráfico de tarta de Estratos\n",
    "plot = df_3[\"Estrato\"].value_counts().plot(kind='pie', autopct='%.2f', \n",
    "                                            figsize=(6, 6),\n",
    "                                            title='Estratos de lotes')"
   ]
  },
  {
   "cell_type": "code",
   "execution_count": 18,
   "id": "591b9f7f",
   "metadata": {},
   "outputs": [
    {
     "data": {
      "image/png": "[encoded data removed]",
      "text/plain": [
       "<Figure size 432x288 with 1 Axes>"
      ]
     },
     "metadata": {
      "needs_background": "light"
     },
     "output_type": "display_data"
    }
   ],
   "source": [
    "Redad_valor = sns.boxplot(x=df_3[\"Estrato\"],y=df_3[\"Precio\"])\n",
    "plt.show()"
   ]
  },
  {
   "cell_type": "code",
   "execution_count": 19,
   "id": "6a53efef",
   "metadata": {},
   "outputs": [
    {
     "data": {
      "image/png": "[encoded data removed]",
      "text/plain": [
       "<Figure size 432x288 with 2 Axes>"
      ]
     },
     "metadata": {
      "needs_background": "light"
     },
     "output_type": "display_data"
    }
   ],
   "source": [
    "correlacion = df_3.corr()\n",
    "sns.heatmap(correlacion,xticklabels=correlacion.columns,yticklabels=correlacion.columns,annot=True)\n",
    "plt.show()"
   ]
  },
  {
   "cell_type": "markdown",
   "id": "d61a61e0",
   "metadata": {},
   "source": [
    "y se presenta una correlación negativa entre el area y el precio esto devido a la mala calidad en los datos"
   ]
  },
  {
   "cell_type": "code",
   "execution_count": null,
   "id": "95869154",
   "metadata": {},
   "outputs": [],
   "source": []
  }
 ],
 "metadata": {
  "kernelspec": {
   "display_name": "Python 3 (ipykernel)",
   "language": "python",
   "name": "python3"
  },
  "language_info": {
   "codemirror_mode": {
    "name": "ipython",
    "version": 3
   },
   "file_extension": ".py",
   "mimetype": "text/x-python",
   "name": "python",
   "nbconvert_exporter": "python",
   "pygments_lexer": "ipython3",
   "version": "3.9.7"
  },
  "vscode": {
   "interpreter": {
    "hash": "ad2bdc8ecc057115af97d19610ffacc2b4e99fae6737bb82f5d7fb13d2f2c186"
   }
  }
 },
 "nbformat": 4,
 "nbformat_minor": 5
}
